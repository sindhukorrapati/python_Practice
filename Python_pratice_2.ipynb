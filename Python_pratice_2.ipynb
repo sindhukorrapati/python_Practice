{
  "nbformat": 4,
  "nbformat_minor": 0,
  "metadata": {
    "colab": {
      "name": "Python_pratice-2.ipynb",
      "provenance": []
    },
    "kernelspec": {
      "name": "python3",
      "display_name": "Python 3"
    }
  },
  "cells": [
    {
      "cell_type": "code",
      "metadata": {
        "colab": {
          "base_uri": "https://localhost:8080/"
        },
        "id": "pHC5xrx5awQP",
        "outputId": "5be49f2d-e562-449f-bc6f-691960a043dc"
      },
      "source": [
        "#program to print values between 2000 and 3200 both including which are divisible by 7 but not 5 in a single line\r\n",
        "for i in range(2000,3201):\r\n",
        "  if i%7==0 and i%5!=0:\r\n",
        "    print(i,end=',')"
      ],
      "execution_count": 1,
      "outputs": [
        {
          "output_type": "stream",
          "text": [
            "2002,2009,2016,2023,2037,2044,2051,2058,2072,2079,2086,2093,2107,2114,2121,2128,2142,2149,2156,2163,2177,2184,2191,2198,2212,2219,2226,2233,2247,2254,2261,2268,2282,2289,2296,2303,2317,2324,2331,2338,2352,2359,2366,2373,2387,2394,2401,2408,2422,2429,2436,2443,2457,2464,2471,2478,2492,2499,2506,2513,2527,2534,2541,2548,2562,2569,2576,2583,2597,2604,2611,2618,2632,2639,2646,2653,2667,2674,2681,2688,2702,2709,2716,2723,2737,2744,2751,2758,2772,2779,2786,2793,2807,2814,2821,2828,2842,2849,2856,2863,2877,2884,2891,2898,2912,2919,2926,2933,2947,2954,2961,2968,2982,2989,2996,3003,3017,3024,3031,3038,3052,3059,3066,3073,3087,3094,3101,3108,3122,3129,3136,3143,3157,3164,3171,3178,3192,3199,"
          ],
          "name": "stdout"
        }
      ]
    },
    {
      "cell_type": "code",
      "metadata": {
        "colab": {
          "base_uri": "https://localhost:8080/"
        },
        "id": "FNPCy_I-bvWM",
        "outputId": "bf10f365-504e-4f56-d106-4b58758e8693"
      },
      "source": [
        "#Write a Python program to accept the user's first and last name and then getting them printed in the the reverse order with a space between first name and last name.\r\n",
        "frst_name=input(\"enter the frst name :\")\r\n",
        "lst_name=input(\"enter the last name :\")\r\n",
        "print('{}' ' ' '{}'.format(frst_name[::-1],lst_name[::-1]))"
      ],
      "execution_count": 10,
      "outputs": [
        {
          "output_type": "stream",
          "text": [
            "enter the frst name :sindhu\n",
            "enter the last name :priya\n",
            "uhdnis ayirp\n"
          ],
          "name": "stdout"
        }
      ]
    },
    {
      "cell_type": "code",
      "metadata": {
        "colab": {
          "base_uri": "https://localhost:8080/"
        },
        "id": "PdfLhFKiczl0",
        "outputId": "6b61c402-08fa-4bf0-dc7a-49765b38e6b9"
      },
      "source": [
        "#Write a Python program to find the volume of a sphere with diameter 12 cm.\r\n",
        "diameter=int(input(\"enter the diameter :\"))\r\n",
        "r =diameter/2\r\n",
        "print(r)\r\n",
        "#V=4/3 * π * r 3\r\n",
        "pie=3.14\r\n",
        "volume=(4/3)*pie*r**3\r\n",
        "print(volume)"
      ],
      "execution_count": 13,
      "outputs": [
        {
          "output_type": "stream",
          "text": [
            "enter the diameter :12\n",
            "6.0\n",
            "904.3199999999999\n"
          ],
          "name": "stdout"
        }
      ]
    },
    {
      "cell_type": "code",
      "metadata": {
        "colab": {
          "base_uri": "https://localhost:8080/"
        },
        "id": "wwPLT5stfH2e",
        "outputId": "7f405612-03d9-4da3-f7e1-e43b42df7318"
      },
      "source": [
        "#program to print patterns:\r\n",
        "rows=int(input(\"enter the no.of.rows :\"))\r\n",
        "for i in range(0,rows):\r\n",
        "  for j in range(0,i+1):\r\n",
        "    print('*',end='')\r\n",
        "  print('')\r\n",
        "for i in range(rows,0,-1):\r\n",
        "  for j in range(i-1,0,-1):\r\n",
        "    print('*',end=\"\")\r\n",
        "  print('')    "
      ],
      "execution_count": 20,
      "outputs": [
        {
          "output_type": "stream",
          "text": [
            "enter the no.of.rows :5\n",
            "*\n",
            "**\n",
            "***\n",
            "****\n",
            "*****\n",
            "****\n",
            "***\n",
            "**\n",
            "*\n",
            "\n"
          ],
          "name": "stdout"
        }
      ]
    },
    {
      "cell_type": "code",
      "metadata": {
        "colab": {
          "base_uri": "https://localhost:8080/"
        },
        "id": "3UjZXYycgT-g",
        "outputId": "426697c1-a6ce-4843-c150-7b37605a8f8a"
      },
      "source": [
        "#Write a Python program to reverse a word after accepting the input from the user.\r\n",
        "Input=input(\"enter the string name need to be reversed :\")\r\n",
        "print('{}'.format(Input[::-1]))"
      ],
      "execution_count": 23,
      "outputs": [
        {
          "output_type": "stream",
          "text": [
            "enter the string name need to be reversed :python\n",
            "nohtyp\n"
          ],
          "name": "stdout"
        }
      ]
    }
  ]
}